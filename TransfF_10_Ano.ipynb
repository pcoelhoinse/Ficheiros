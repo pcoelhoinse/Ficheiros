{
 "cells": [
  {
   "cell_type": "markdown",
   "id": "5eeff208",
   "metadata": {},
   "source": [
    "## Matemática A - 10.º Ano\n",
    "\n",
    "# Transformações de Funções\n",
    "\n",
    "Considere-se uma função $f:\\mathbb{R}\\to\\mathbb{R}$, cujo gráfico cartesiano se encontra parcialmente representado, no intervalo $[-6,8]$, na figura seguinte. \n",
    "\n",
    "A função $g:\\mathbb{R}\\to\\mathbb{R}$ é definida por $g(x)=af(bx+h)+k, \\ a,b,h,k\\in\\mathbb{R}$. \n",
    "\n",
    "Note-se que para $a=b=1$ e $h=k=0$ se tem que $f=g$.\n"
   ]
  },
  {
   "cell_type": "code",
   "execution_count": 1,
   "id": "92e2cdf3",
   "metadata": {},
   "outputs": [
    {
     "data": {
      "text/html": [
       "\n",
       "        <iframe\n",
       "            width=\"1000\"\n",
       "            height=\"600\"\n",
       "            src=\"https://www.geogebra.org/classic/h9ejegzx\"\n",
       "            frameborder=\"0\"\n",
       "            allowfullscreen\n",
       "            \n",
       "        ></iframe>\n",
       "        "
      ],
      "text/plain": [
       "<IPython.lib.display.IFrame at 0x110b30b50>"
      ]
     },
     "execution_count": 1,
     "metadata": {},
     "output_type": "execute_result"
    }
   ],
   "source": [
    "from IPython.display import IFrame\n",
    "IFrame(\"https://www.geogebra.org/classic/h9ejegzx\",1000,600)"
   ]
  },
  {
   "cell_type": "markdown",
   "id": "eb4bd169",
   "metadata": {},
   "source": [
    "1. Arrastando o \"slider\" do botão \"k\" verifica que tipo de transformação permite obter $f(x)+k$ a partir de $f(x)$."
   ]
  },
  {
   "cell_type": "markdown",
   "id": "0b48c346",
   "metadata": {},
   "source": [
    "2. Coloca o botão \"k\" na posição $k=0$ e arrasta o \"slider\" do botão $h$. Que tipo de transformação permite obter $f(x+h)$ a partir de $f(x)$?"
   ]
  },
  {
   "cell_type": "markdown",
   "id": "0ebe346f",
   "metadata": {},
   "source": [
    "3. Coloca os botões \"h\" e \"k\" na posição $h=0$ e $k=0$. Arrasta o \"slider\" do botão \"a\". Considera em primeiro lugar os casos $a=1$ e $a=-1$. Que tipo de transformações permitem obter $af(x)$ a partir de $f(x)$?"
   ]
  },
  {
   "cell_type": "markdown",
   "id": "57ee766e",
   "metadata": {},
   "source": [
    "4. Coloca os botões \"h\", \"k\" e \"a\" nas posições $h=0$, $k=0$ e $a=1$. Arrasta o \"slider\" do botão \"b\", e estuda todas as transformações que permitem obter $f(bx)$ a partir de $f(x)$."
   ]
  },
  {
   "cell_type": "markdown",
   "id": "41c7b0b9",
   "metadata": {},
   "source": [
    "5. Elabora um relatório com um resumo das transformações obtidas a partir do gráfico cartesiano da função $f$ quando se varia cada um dos parâmetros $a$, $b$, $h$ e $k$."
   ]
  }
 ],
 "metadata": {
  "kernelspec": {
   "display_name": "Python 3 (ipykernel)",
   "language": "python",
   "name": "python3"
  },
  "language_info": {
   "codemirror_mode": {
    "name": "ipython",
    "version": 3
   },
   "file_extension": ".py",
   "mimetype": "text/x-python",
   "name": "python",
   "nbconvert_exporter": "python",
   "pygments_lexer": "ipython3",
   "version": "3.9.7"
  }
 },
 "nbformat": 4,
 "nbformat_minor": 5
}
