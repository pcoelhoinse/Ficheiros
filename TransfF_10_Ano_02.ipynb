{
 "cells": [
  {
   "cell_type": "markdown",
   "id": "5eeff208",
   "metadata": {},
   "source": [
    "## Matemática A - 10.º Ano\n",
    "### Paulo Coelho\n",
    "\n",
    "# Transformações de Funções\n",
    "\n",
    "Considere-se uma função $f:\\mathbb{R}\\to\\mathbb{R}$, de domínio $D_f=[-6,8]$, cujo gráfico cartesiano se encontra representado na figura seguinte. \n",
    "\n",
    "![alt text](fig01.png)\n",
    "\n",
    "A função $g:\\mathbb{R}\\to\\mathbb{R}$ é definida por $g(x)=af(bx+h)+k, \\ a,b,h,k\\in\\mathbb{R}$. \n",
    "\n",
    "Note-se que para $a=b=1$ e $h=k=0$ se tem que $f=g$.\n"
   ]
  },
  {
   "cell_type": "code",
   "execution_count": 1,
   "id": "bf8b5214",
   "metadata": {},
   "outputs": [
    {
     "data": {
      "text/html": [
       "\n",
       "        <iframe\n",
       "            width=\"1000\"\n",
       "            height=\"600\"\n",
       "            src=\"https://www.geogebra.org/classic/y64uxs85\"\n",
       "            frameborder=\"0\"\n",
       "            allowfullscreen\n",
       "            \n",
       "        ></iframe>\n",
       "        "
      ],
      "text/plain": [
       "<IPython.lib.display.IFrame at 0x10f171190>"
      ]
     },
     "execution_count": 1,
     "metadata": {},
     "output_type": "execute_result"
    }
   ],
   "source": [
    "from IPython.display import IFrame\n",
    "IFrame(\"https://www.geogebra.org/classic/y64uxs85\",1000,600)"
   ]
  },
  {
   "cell_type": "markdown",
   "id": "9bd19192",
   "metadata": {},
   "source": [
    "### 1. $g_k(x)=f(x)+k, k\\in\\mathbb{R}$\n",
    "\n",
    "Pretende-se estudar de que forma o parâmetro $k\\in\\mathbb{R}$ altera o gráfico da função $f$, permitindo obter o gráfico da função $g_k$.\n",
    "\n",
    "Para o efeito atribui valores distintos ao parâmetro $k$ (recorre à apliqueta do GeoGebra abaixo).\n",
    "\n",
    "**Trabalha com a apliqueta em modo \"Tela Cheia\"** *Canto inferior direito da apliqueta*"
   ]
  },
  {
   "cell_type": "code",
   "execution_count": 2,
   "id": "48454dcf",
   "metadata": {
    "scrolled": false
   },
   "outputs": [
    {
     "data": {
      "text/html": [
       "\n",
       "        <iframe\n",
       "            width=\"1000\"\n",
       "            height=\"600\"\n",
       "            src=\"https://www.geogebra.org/classic/dqypa6js\"\n",
       "            frameborder=\"0\"\n",
       "            allowfullscreen\n",
       "            \n",
       "        ></iframe>\n",
       "        "
      ],
      "text/plain": [
       "<IPython.lib.display.IFrame at 0x10f14f280>"
      ]
     },
     "execution_count": 2,
     "metadata": {},
     "output_type": "execute_result"
    }
   ],
   "source": [
    "from IPython.display import IFrame\n",
    "IFrame(\"https://www.geogebra.org/classic/dqypa6js\",1000,600)"
   ]
  },
  {
   "cell_type": "markdown",
   "id": "03e90884",
   "metadata": {},
   "source": [
    "*Sendo* $g_k(x)=f(x)+k, k\\in\\mathbb{R}$:\n",
    "\n",
    "1. Visualiza o gráfico da função $g_2$. Indica $D_{g_2}$, $D'_{g_2}$ e compara com $D_f$ e $D'_f$.\n",
    "2. Qual o tipo de transformação que permite obter o gráfico de $g_2$ a partir do gráfico de $f$.\n",
    "3. Generaliza o efeito do parâmetro $k$ na transformação de $f$ em $g_k$."
   ]
  },
  {
   "cell_type": "markdown",
   "id": "435a7068",
   "metadata": {},
   "source": [
    "### 2. $g_h(x)=f(x+h), h\\in\\mathbb{R}$\n",
    "\n",
    "Pretende-se estudar de que forma o parâmetro $h\\in\\mathbb{R}$ altera o gráfico da função $f$, permitindo obter o gráfico da função $g_h$.\n",
    "\n",
    "Para o efeito atribui valores distintos ao parâmetro $h$ (recorre à apliqueta do GeoGebra abaixo).\n",
    "\n",
    "**Trabalha com a apliqueta em modo \"Tela Cheia\"** *Canto inferior direito da apliqueta*"
   ]
  },
  {
   "cell_type": "code",
   "execution_count": 3,
   "id": "ffccb391",
   "metadata": {},
   "outputs": [
    {
     "data": {
      "text/html": [
       "\n",
       "        <iframe\n",
       "            width=\"1000\"\n",
       "            height=\"600\"\n",
       "            src=\"https://www.geogebra.org/classic/w8feu3ww\"\n",
       "            frameborder=\"0\"\n",
       "            allowfullscreen\n",
       "            \n",
       "        ></iframe>\n",
       "        "
      ],
      "text/plain": [
       "<IPython.lib.display.IFrame at 0x10f1d00d0>"
      ]
     },
     "execution_count": 3,
     "metadata": {},
     "output_type": "execute_result"
    }
   ],
   "source": [
    "from IPython.display import IFrame\n",
    "IFrame(\"https://www.geogebra.org/classic/w8feu3ww\",1000,600)"
   ]
  },
  {
   "cell_type": "markdown",
   "id": "42fb8594",
   "metadata": {},
   "source": [
    "*Sendo* $g_h(x)=f(x+h), h\\in\\mathbb{R}$:\n",
    "\n",
    "1. Visualiza os gráficos das funções $g_3$ e $g_{-3}$. O que se pode concluir?\n",
    "2. O ponto $A(\\frac{1}{2},\\frac{7}{4})$ pertence a $G_f$. Se $B$ é o transformado do ponto $A$ quando se passa da função $f$ para a função $g_{-2}$, quais são as coordenadas de $B$? Verifica a tua resposta escrevendo as coordenadas do ponto $B$ no \"Campo de Entrada\" da apliqueta.\n",
    "3. Generaliza o efeito do parâmetro $h$ na transformação de $f$ em $g_h$."
   ]
  },
  {
   "cell_type": "markdown",
   "id": "ac6235c4",
   "metadata": {},
   "source": [
    "### 3. $g_a(x)=af(x), a\\in\\mathbb{R}$\n",
    "\n",
    "Pretende-se estudar de que forma o parâmetro $a\\in\\mathbb{R}$ altera o gráfico da função $f$, permitindo obter o gráfico da função $g_a$.\n",
    "\n",
    "Para o efeito atribui valores distintos ao parâmetro $a$ (recorre à apliqueta do GeoGebra abaixo).\n",
    "\n",
    "**Trabalha com a apliqueta em modo \"Tela Cheia\"** *Canto inferior direito da apliqueta*"
   ]
  },
  {
   "cell_type": "code",
   "execution_count": 4,
   "id": "350745ac",
   "metadata": {},
   "outputs": [
    {
     "data": {
      "text/html": [
       "\n",
       "        <iframe\n",
       "            width=\"1000\"\n",
       "            height=\"600\"\n",
       "            src=\"https://www.geogebra.org/classic/tee4hj24\"\n",
       "            frameborder=\"0\"\n",
       "            allowfullscreen\n",
       "            \n",
       "        ></iframe>\n",
       "        "
      ],
      "text/plain": [
       "<IPython.lib.display.IFrame at 0x10f171ee0>"
      ]
     },
     "execution_count": 4,
     "metadata": {},
     "output_type": "execute_result"
    }
   ],
   "source": [
    "from IPython.display import IFrame\n",
    "IFrame(\"https://www.geogebra.org/classic/tee4hj24\",1000,600)"
   ]
  },
  {
   "cell_type": "markdown",
   "id": "3275d7a0",
   "metadata": {},
   "source": [
    "*Sendo* $g_a(x)=af(x), a\\in\\mathbb{R}$:\n",
    "\n",
    "1. Visualiza os gráficos das funções $g_1$ e $g_{-1}$. O que se pode concluir?\n",
    "2. Visualiza os gráficos das funções $g_2$, $g_{0.5}$, $g_{-2}$, $g_{-0.5}$. O que se pode concluir?\n",
    "3. O ponto $A(\\frac{1}{2},\\frac{7}{4})$ pertence a $G_f$. Se $B$ é o transformado do ponto $A$ quando se passa da função $f$ para a função $g_{-2}$, quais são as coordenadas de $B$? Verifica a tua resposta escrevendo as coordenadas do ponto $B$ no \"Campo de Entrada\" da apliqueta.\n",
    "3. Generaliza o efeito do parâmetro $a$ na transformação de $f$ em $g_a$."
   ]
  },
  {
   "cell_type": "markdown",
   "id": "cbd22b47",
   "metadata": {},
   "source": [
    "### 4. $g_b(x)=f(bx), b\\in\\mathbb{R}$\n",
    "\n",
    "Pretende-se estudar de que forma o parâmetro $b\\in\\mathbb{R}$ altera o gráfico da função $f$, permitindo obter o gráfico da função $g_b$.\n",
    "\n",
    "Para o efeito atribui valores distintos ao parâmetro $a$ (recorre à apliqueta do GeoGebra abaixo).\n",
    "\n",
    "**Trabalha com a apliqueta em modo \"Tela Cheia\"** *Canto inferior direito da apliqueta*"
   ]
  },
  {
   "cell_type": "code",
   "execution_count": 5,
   "id": "12e171ef",
   "metadata": {},
   "outputs": [
    {
     "data": {
      "text/html": [
       "\n",
       "        <iframe\n",
       "            width=\"1000\"\n",
       "            height=\"600\"\n",
       "            src=\"https://www.geogebra.org/classic/y64uxs85\"\n",
       "            frameborder=\"0\"\n",
       "            allowfullscreen\n",
       "            \n",
       "        ></iframe>\n",
       "        "
      ],
      "text/plain": [
       "<IPython.lib.display.IFrame at 0x10f1d07f0>"
      ]
     },
     "execution_count": 5,
     "metadata": {},
     "output_type": "execute_result"
    }
   ],
   "source": [
    "from IPython.display import IFrame\n",
    "IFrame(\"https://www.geogebra.org/classic/y64uxs85\",1000,600)"
   ]
  },
  {
   "cell_type": "markdown",
   "id": "48ccc24a",
   "metadata": {},
   "source": [
    "*Sendo* $g_b(x)=f(bx), b\\in\\mathbb{R}$:\n",
    "\n",
    "1. Visualiza os gráficos das funções $g_1$ e $g_{-1}$. O que se pode concluir?\n",
    "2. Visualiza os gráficos das funções $g_2$, $g_{0.5}$, $g_{-2}$, $g_{-0.5}$. O que se pode concluir?\n",
    "3. O ponto $A(\\frac{1}{2},\\frac{7}{4})$ pertence a $G_f$. Se $B$ é o transformado do ponto $A$ quando se passa da função $f$ para a função $g_{-2}$, quais são as coordenadas de $B$? Verifica a tua resposta escrevendo as coordenadas do ponto $B$ no \"Campo de Entrada\" da apliqueta.\n",
    "3. Generaliza o efeito do parâmetro $b$ na transformação de $f$ em $g_b$."
   ]
  },
  {
   "cell_type": "markdown",
   "id": "6d441dba",
   "metadata": {},
   "source": [
    "### 5. $g(x)=af(bx+h)+k, a, b, h, k\\in\\mathbb{R}$\n",
    "\n",
    "Qual o efeito dos diversos parâmetros $a,b,h$ e $k$?\n",
    "\n",
    "Atribui valores distintos aos parâmetro $a,b,h, k$ na apliqueta do GeoGebra abaixo.\n",
    "\n",
    "**Trabalha com a apliqueta em modo \"Tela Cheia\"** *Canto inferior direito da apliqueta*"
   ]
  },
  {
   "cell_type": "code",
   "execution_count": 6,
   "id": "8618ed31",
   "metadata": {},
   "outputs": [
    {
     "data": {
      "text/html": [
       "\n",
       "        <iframe\n",
       "            width=\"1000\"\n",
       "            height=\"600\"\n",
       "            src=\"https://www.geogebra.org/classic/yduncgsm\"\n",
       "            frameborder=\"0\"\n",
       "            allowfullscreen\n",
       "            \n",
       "        ></iframe>\n",
       "        "
      ],
      "text/plain": [
       "<IPython.lib.display.IFrame at 0x10f171820>"
      ]
     },
     "execution_count": 6,
     "metadata": {},
     "output_type": "execute_result"
    }
   ],
   "source": [
    "from IPython.display import IFrame\n",
    "IFrame(\"https://www.geogebra.org/classic/yduncgsm\",1000,600)"
   ]
  },
  {
   "cell_type": "markdown",
   "id": "41c7b0b9",
   "metadata": {},
   "source": [
    "5. Elabora um relatório com um resumo das transformações obtidas a partir do gráfico cartesiano da função $f$ quando se varia cada um dos parâmetros $a$, $b$, $h$ e $k$. Deves referir o tipo de transformação e as possíveis alterações no domínio e no contradominio."
   ]
  }
 ],
 "metadata": {
  "kernelspec": {
   "display_name": "Python 3 (ipykernel)",
   "language": "python",
   "name": "python3"
  },
  "language_info": {
   "codemirror_mode": {
    "name": "ipython",
    "version": 3
   },
   "file_extension": ".py",
   "mimetype": "text/x-python",
   "name": "python",
   "nbconvert_exporter": "python",
   "pygments_lexer": "ipython3",
   "version": "3.9.7"
  }
 },
 "nbformat": 4,
 "nbformat_minor": 5
}
